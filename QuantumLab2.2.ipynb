{
 "cells": [
  {
   "cell_type": "code",
   "execution_count": 196,
   "metadata": {},
   "outputs": [],
   "source": [
    "import numpy as np\n",
    "from qiskit import QuantumCircuit, Aer\n",
    "from math import ceil"
   ]
  },
  {
   "cell_type": "code",
   "execution_count": 197,
   "metadata": {},
   "outputs": [],
   "source": [
    "# from qiskit import Aer, QuantumCircuit, transpile, assemble\n",
    "# from qiskit.visualization import plot_histogram\n",
    "\n",
    "# def initialize_s(qc, qubits):\n",
    "#     \"\"\"Apply a Hadamard gate to all qubits in the list.\"\"\"\n",
    "#     for q in qubits:\n",
    "#         qc.h(q)\n",
    "\n",
    "# def oracle(qc, target_qubit): #bad \n",
    "#     \"\"\"Apply a phase oracle to the target qubit.\"\"\"\n",
    "#     qc.z(target_qubit)\n",
    "\n",
    "# def diffusion(qc, qubits):\n",
    "#     \"\"\"Apply the diffusion operator to the qubits.\"\"\"\n",
    "#     # Apply Hadamard gates\n",
    "#     qc.h(qubits)\n",
    "#     # Apply X gates\n",
    "#     qc.x(qubits)\n",
    "#     # Apply controlled-Z gate\n",
    "#     qc.h(qubits[-1])\n",
    "#     qc.mct(qubits[:-1], qubits[-1])\n",
    "#     # Apply X gates\n",
    "#     qc.x(qubits)\n",
    "#     # Apply Hadamard gates\n",
    "#     qc.h(qubits)\n",
    "\n",
    "# def grovers_algorithm(n, marked_items):\n",
    "#     # Create a quantum circuit with n qubits and n classical bits\n",
    "#     qc = QuantumCircuit(n, n)\n",
    "    \n",
    "#     # Initialize the superposition of all states\n",
    "#     initialize_s(qc, range(n))\n",
    "    \n",
    "#     # Define the number of Grover iterations (adjust as needed)\n",
    "#     num_iterations = int(0.5 * (2 ** (n / 2)))\n",
    "    \n",
    "#     # Apply Grover iterations\n",
    "#     for _ in range(num_iterations):\n",
    "#         # Apply the oracle to mark the solution(s)\n",
    "#         oracle(qc, marked_items)\n",
    "        \n",
    "#         # Apply the diffusion operator\n",
    "#         diffusion(qc, range(n))\n",
    "    \n",
    "#     # Measure the qubits\n",
    "#     qc.measure(range(n), range(n))\n",
    "    \n",
    "#     # Simulate the quantum circuit\n",
    "#     simulator = Aer.get_backend('qasm_simulator')\n",
    "#     compiled_circuit = transpile(qc, simulator)\n",
    "#     result = simulator.run(compiled_circuit).result()\n",
    "    \n",
    "#     # Get and plot the result\n",
    "#     counts = result.get_counts(qc)\n",
    "#     plot_histogram(counts)\n",
    "\n",
    "# # Example usage\n",
    "# n_qubits = 3  # Number of qubits\n",
    "# marked_items = [4]  # Indices of marked items\n",
    "\n",
    "# grovers_algorithm(n_qubits, marked_items)"
   ]
  },
  {
   "cell_type": "code",
   "execution_count": 198,
   "metadata": {},
   "outputs": [],
   "source": [
    "def prepareGroverBlackBox(qubits: int, markedNumber: int): # qubits+1\n",
    "    qc = QuantumCircuit(qubits)#, name=\"Grover's Black Box\")\n",
    "    if 2**(qubits-1)-1 < markedNumber:\n",
    "        raise Exception('markedNumber is too Big')\n",
    "    matrix = np.zeros((2**qubits, 2**qubits))\n",
    "    for i in range(2**(qubits-1)):\n",
    "        binaryNumber = bin(i+1)[2:].rjust(qubits-1, '0')\n",
    "        if i+1 == markedNumber:\n",
    "            matrix[int(binaryNumber+'0', 2)][int(binaryNumber+'1', 2)] = 1\n",
    "            matrix[int(binaryNumber+'1', 2)][int(binaryNumber+'0', 2)] = 1\n",
    "        else:\n",
    "            matrix[int(binaryNumber+'0', 2)][int(binaryNumber+'0', 2)] = 1\n",
    "            matrix[int(binaryNumber+'1', 2)][int(binaryNumber+'1', 2)] = 1\n",
    "    qc.unitary(matrix, range(qubits))\n",
    "    print (qc.to_gate())\n",
    "    return qc.to_gate()\n",
    "\n",
    "def inversionAboutMean(qubits: int):\n",
    "    matrix = 2*np.full((2**qubits, 2**qubits), 1/(2**qubits)) - np.eye(2**qubits)\n",
    "    qc = QuantumCircuit(qubits, name=\"Inversion About Mean\")\n",
    "    qc.unitary(matrix, range(qubits))\n",
    "    return qc.to_gate()\n",
    "    \n",
    "def grover(qubits: int, markedNumber:int):\n",
    "    qc = QuantumCircuit(qubits+1, qubits)\n",
    "    qc.x(qubits)\n",
    "    qc.barrier()\n",
    "    qc.h(range(qubits+1))\n",
    "    numIterations = ceil(np.sqrt(2**qubits))\n",
    "    print (numIterations)\n",
    "    for _ in range(numIterations):\n",
    "        matrix = np.zeros((2**(qubits+1), 2**(qubits+1)))\n",
    "        for i in range(2**(qubits)):\n",
    "            binaryNumber = bin(i)[2:].rjust(qubits, '0')\n",
    "            if i == markedNumber:\n",
    "                matrix[int(binaryNumber+'0', 2)][int(binaryNumber+'1', 2)] = 1\n",
    "                matrix[int(binaryNumber+'1', 2)][int(binaryNumber+'0', 2)] = 1\n",
    "            else:\n",
    "                matrix[int(binaryNumber+'0', 2)][int(binaryNumber+'0', 2)] = 1\n",
    "                matrix[int(binaryNumber+'1', 2)][int(binaryNumber+'1', 2)] = 1\n",
    "        qc.unitary(matrix, range(qubits,-1,-1))\n",
    "        matrix = 2*np.full((2**qubits, 2**qubits), 1/(2**qubits)) - np.eye(2**qubits)\n",
    "        qc.unitary(matrix, range(qubits-1,-1,-1)) \n",
    "        # qc.append(prepareGroverBlackBox(qubits+1, markedNumber), range(qubits,-1,-1))\n",
    "        # qc.append(inversionAboutMean(qubits), range(qubits-1,-1,-1))\n",
    "    qc.measure(range(qubits), range(qubits))\n",
    "    return qc"
   ]
  },
  {
   "cell_type": "code",
   "execution_count": 213,
   "metadata": {},
   "outputs": [
    {
     "name": "stdout",
     "output_type": "stream",
     "text": [
      "3\n",
      "{'101': 84, '011': 100, '111': 87, '100': 100, '001': 101, '110': 98, '000': 94, '010': 360}\n",
      "010\n"
     ]
    },
    {
     "data": {
      "image/png": "[encoded data removed]",
      "text/plain": [
       "<Figure size 1625.27x451.5 with 1 Axes>"
      ]
     },
     "execution_count": 213,
     "metadata": {},
     "output_type": "execute_result"
    }
   ],
   "source": [
    "len = 3\n",
    "number = 2\n",
    "\n",
    "qc = grover(len, number)\n",
    "\n",
    "backend = Aer.get_backend('qasm_simulator')\n",
    "job = backend.run(qc, shots=1024)\n",
    "result = job.result()\n",
    "print(result.get_counts())\n",
    "counts = dict(result.get_counts())\n",
    "max = 0\n",
    "for key, value in counts.items():\n",
    "    if value > max:\n",
    "        max = value\n",
    "        maxKey = key\n",
    "\n",
    "print (maxKey[::-1])\n",
    "qc.draw('mpl')"
   ]
  }
 ],
 "metadata": {
  "kernelspec": {
   "display_name": "Python 3",
   "language": "python",
   "name": "python3"
  },
  "language_info": {
   "codemirror_mode": {
    "name": "ipython",
    "version": 3
   },
   "file_extension": ".py",
   "mimetype": "text/x-python",
   "name": "python",
   "nbconvert_exporter": "python",
   "pygments_lexer": "ipython3",
   "version": "3.11.4"
  },
  "orig_nbformat": 4
 },
 "nbformat": 4,
 "nbformat_minor": 2
}
