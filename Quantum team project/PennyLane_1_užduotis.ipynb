{
  "cells": [
    {
      "cell_type": "markdown",
      "metadata": {
        "id": "3mxWQPFZF609"
      },
      "source": [
        "#PennyLane karkasas"
      ]
    },
    {
      "cell_type": "markdown",
      "metadata": {
        "id": "xJcCqj18GT2b"
      },
      "source": [
        "**\"Xanadu\" sukurta \"PennyLane\" yra programinės įrangos biblioteka, skirta kvantiniam mašininiam mokymuisi, kvantiniam skaičiavimams ir kvantiniai chemijai.**\n",
        "\n",
        "\"PennyLane\" yra daugiaplatformė \"Python\" biblioteka, skirta kvantiniams kompiuteriams programuoti. Jos diferencinio programavimo paradigma leidžia vykdyti ir mokyti kvantines programas įvairiose duomenų bazėse.\n",
        "\n",
        "PennyLane sujungia kvantinius kompiuterius su galingomis mašininio mokymosi programomis, tokiomis kaip NumPy autograd, JAX, PyTorch ir TensorFlow, ir leidžia joms pritaikyti kvantinius kompiuterius.\n",
        "\n",
        "Pagrindinė užduotis - valdyti kvantinių skaičiavimų vykdymą, įskaitant grandinių įvertinimą ir jų gradientų skaičiavimą. Ši informacija perduodama klasikinei sistemai, taip sukuriant vientisus kvantinių ir klasikinių programų vamzdynus."
      ]
    },
    {
      "cell_type": "markdown",
      "metadata": {
        "id": "aXeHdnhgGh0Y"
      },
      "source": [
        "Norint pradėti dirbti su PennyLane, pirmiausiai reikia:\n",
        "\n",
        "Įsirašyti PennyLane biblioteką.\n",
        "Tai padaryti Google Collab aplinkoje galima su šia komanda:\n",
        "\n"
      ]
    },
    {
      "cell_type": "code",
      "execution_count": 19,
      "metadata": {
        "id": "Dxk1FgPWGyzw"
      },
      "outputs": [
        {
          "name": "stdout",
          "output_type": "stream",
          "text": [
            "Requirement already satisfied: pennylane in /Users/pijus/.pyenv/versions/3.11.4/lib/python3.11/site-packages (0.32.0)\n",
            "Requirement already satisfied: numpy<1.24 in /Users/pijus/.pyenv/versions/3.11.4/lib/python3.11/site-packages (from pennylane) (1.23.5)\n",
            "Requirement already satisfied: scipy in /Users/pijus/.pyenv/versions/3.11.4/lib/python3.11/site-packages (from pennylane) (1.11.2)\n",
            "Requirement already satisfied: networkx in /Users/pijus/.pyenv/versions/3.11.4/lib/python3.11/site-packages (from pennylane) (3.1)\n",
            "Requirement already satisfied: rustworkx in /Users/pijus/.pyenv/versions/3.11.4/lib/python3.11/site-packages (from pennylane) (0.13.1)\n",
            "Requirement already satisfied: autograd<=1.5 in /Users/pijus/.pyenv/versions/3.11.4/lib/python3.11/site-packages (from pennylane) (1.5)\n",
            "Requirement already satisfied: toml in /Users/pijus/.pyenv/versions/3.11.4/lib/python3.11/site-packages (from pennylane) (0.10.2)\n",
            "Requirement already satisfied: appdirs in /Users/pijus/.pyenv/versions/3.11.4/lib/python3.11/site-packages (from pennylane) (1.4.4)\n",
            "Requirement already satisfied: semantic-version>=2.7 in /Users/pijus/.pyenv/versions/3.11.4/lib/python3.11/site-packages (from pennylane) (2.10.0)\n",
            "Requirement already satisfied: autoray>=0.3.1 in /Users/pijus/.pyenv/versions/3.11.4/lib/python3.11/site-packages (from pennylane) (0.6.7)\n",
            "Requirement already satisfied: cachetools in /Users/pijus/.pyenv/versions/3.11.4/lib/python3.11/site-packages (from pennylane) (5.3.1)\n",
            "Requirement already satisfied: pennylane-lightning>=0.32 in /Users/pijus/.pyenv/versions/3.11.4/lib/python3.11/site-packages (from pennylane) (0.33.0)\n",
            "Requirement already satisfied: requests in /Users/pijus/.pyenv/versions/3.11.4/lib/python3.11/site-packages (from pennylane) (2.31.0)\n",
            "Requirement already satisfied: typing-extensions in /Users/pijus/.pyenv/versions/3.11.4/lib/python3.11/site-packages (from pennylane) (4.8.0)\n",
            "Requirement already satisfied: future>=0.15.2 in /Users/pijus/.pyenv/versions/3.11.4/lib/python3.11/site-packages (from autograd<=1.5->pennylane) (0.18.3)\n",
            "Requirement already satisfied: charset-normalizer<4,>=2 in /Users/pijus/.pyenv/versions/3.11.4/lib/python3.11/site-packages (from requests->pennylane) (3.2.0)\n",
            "Requirement already satisfied: idna<4,>=2.5 in /Users/pijus/.pyenv/versions/3.11.4/lib/python3.11/site-packages (from requests->pennylane) (3.4)\n",
            "Requirement already satisfied: urllib3<3,>=1.21.1 in /Users/pijus/.pyenv/versions/3.11.4/lib/python3.11/site-packages (from requests->pennylane) (1.26.18)\n",
            "Requirement already satisfied: certifi>=2017.4.17 in /Users/pijus/.pyenv/versions/3.11.4/lib/python3.11/site-packages (from requests->pennylane) (2023.7.22)\n"
          ]
        }
      ],
      "source": [
        "!pip install pennylane"
      ]
    },
    {
      "cell_type": "code",
      "execution_count": 20,
      "metadata": {},
      "outputs": [],
      "source": [
        "import pennylane as qml\n",
        "import numpy as np\n",
        "import matplotlib.pyplot as plt"
      ]
    },
    {
      "cell_type": "markdown",
      "metadata": {
        "id": "5b6ykAtoFZwe"
      },
      "source": [
        "Kvantiniai skaičiavimai \"PennyLane\" pateikiami kaip kvantinių mazgų objektai. Kvantinis mazgas yra kvantinės grandinės inicializacija ir apima skaičiavimus konkrečiame kvantiniame įrenginyje, kuris vykdo grandinę. Kvantinius mazgus galima lengvai sukurti naudojant qnode dekoratorių."
      ]
    },
    {
      "cell_type": "markdown",
      "metadata": {
        "id": "P310Q5qRQBkk"
      },
      "source": [
        "##Kvantinės grandinės"
      ]
    },
    {
      "cell_type": "markdown",
      "metadata": {
        "id": "xefWMijCi3i3"
      },
      "source": [
        "\"PennyLane\" sistemoje kvantiniai skaičiavimai, kuriuos atliekant naudojama viena ar daugiau kvantinių grandinių, pateikiami kaip kvantinių mazgų objektai. Kvantinis mazgas naudojamas kvantinei grandinei deklaruoti, taip pat susieti skaičiavimą su konkrečiu jį vykdančiu įrenginiu.\n",
        "\n",
        "Q mazgai gali turėti sąsają su bet kuria iš palaikomų skaitmeninių ir mašininio mokymosi bibliotekų - NumPy, PyTorch, TensorFlow ir JAX, nurodant neprivalomą sąsajos argumentą kuriant Q mazgą. Kiekviena sąsaja leidžia kvantinei grandinei sklandžiai integruotis su konkrečiai bibliotekai būdingomis duomenų struktūromis (pvz., NumPy ir JAX masyvais arba PyTorch/TensorFlow tenzoriais) ir optimizatoriais.\n",
        "\n",
        "Pagal numatytuosius nustatymus QNodes naudoja NumPy sąsają."
      ]
    },
    {
      "cell_type": "markdown",
      "metadata": {
        "id": "G3wtpyZKFpf3"
      },
      "source": [
        "Kvantinė grandinė kuriama naudojant tokia sintaksę:"
      ]
    },
    {
      "cell_type": "code",
      "execution_count": 21,
      "metadata": {
        "id": "utw8fr4TFnNo"
      },
      "outputs": [],
      "source": [
        "def quantum_function(x, y):\n",
        "    qml.RZ(x, wires=0)\n",
        "    qml.CNOT(wires=[0,1])\n",
        "    qml.RY(y, wires=1)\n",
        "    return qml.expval(qml.PauliZ(1))"
      ]
    },
    {
      "cell_type": "markdown",
      "metadata": {
        "id": "iO8jYG9MF_aD"
      },
      "source": [
        "Vietoj kubitui \"PennyLane\" naudoja terminą \"wires\", kuriuo vadina kvantinę posistemę. Kvantinė funkcija grąžina arba vieną, arba tuple išmatuotų stebimųjų verčių, taikydama matavimo funkciją, kuri iš prieš tai pateiktos funkcijos PauliZ operatorius kubitui yra 1"
      ]
    },
    {
      "cell_type": "markdown",
      "metadata": {
        "id": "mF7npjvrPPDY"
      },
      "source": [
        "Norint paleisti kvantinę grandinę, o vėliau ją optimizuoti, pirmiausia reikia nurodyti skaičiavimo įrenginį.\n",
        "\n",
        "Įrenginys yra įrenginio klasės egzempliorius ir gali būti imitatorius arba aparatūros įrenginys. Juos galima instancuoti naudojant įrenginio įkroviklį.\n",
        "\n",
        "\"PennyLane\" siūlo keletą pagrindinių įrenginių, pavyzdžiui, \"default.qubit\", \"default.mixed\", \"lightning.qubit\" ir \"default.gaussian\" simuliatorius; papildomus įrenginius galima įdiegti kaip papildinius. Reiktų atkreipti dėmesį, kad nuo pasirinkto įrenginio labai priklauso skaičiavimo greitis, taip pat galimos parinktys, kurias galima perduoti įrenginio įkrovikliui.\n",
        "\n",
        "\n",
        "```\n",
        "dev = qml.device('default.qubit', wires=2, shots = 1000)\n",
        "```\n",
        "\n"
      ]
    },
    {
      "cell_type": "markdown",
      "metadata": {
        "id": "9-Q-6cHOPtBY"
      },
      "source": [
        "Įrenginio pavadinimas yra pirmasis argumentas, \"wires\" reiškia įrenginio atstovaujamų posistemių skaičių ir \"shots\" nurodo, kiek kartų grandinė turėtų būti įvertinta siekiant apskaičiuoti vertes. Pavadinimas yra privalomas argumentas.\n",
        "\n",
        "\"wires\" ir \"shots\" yra svarbiausi argumentai."
      ]
    },
    {
      "cell_type": "markdown",
      "metadata": {
        "id": "ZCBQhF_UjpQg"
      },
      "source": [
        "###Wires"
      ]
    },
    {
      "cell_type": "markdown",
      "metadata": {
        "id": "Hxz9VcOjk5iQ"
      },
      "source": [
        "Argumentas wires gali būti sveikasis skaičius, apibrėžiantis laidų, kuriuos galite kreiptis nuosekliomis sveikųjų skaičių etiketėmis 0, 1, 2, ..."
      ]
    },
    {
      "cell_type": "code",
      "execution_count": 22,
      "metadata": {
        "id": "ScObFY-llLn1"
      },
      "outputs": [],
      "source": [
        "dev = qml.device('default.qubit', wires=3)"
      ]
    },
    {
      "cell_type": "markdown",
      "metadata": {
        "id": "9mvUyk0ilJTk"
      },
      "source": [
        "Taip pat galite naudoti pasirinktines etiketes, perduodami iterable, kuriame yra unikalios posistemių etiketės:"
      ]
    },
    {
      "cell_type": "code",
      "execution_count": 23,
      "metadata": {
        "id": "aYIPBRDGlSx5"
      },
      "outputs": [],
      "source": [
        "dev_unique_wires = qml.device('default.qubit', wires=['aux', 'q1', 'q2'])"
      ]
    },
    {
      "cell_type": "markdown",
      "metadata": {
        "id": "zJVmBHk0lpGG"
      },
      "source": [
        "Naudodami kvantavimo funkciją galima naudoti savo etiketes kreipiantis į laidams:"
      ]
    },
    {
      "cell_type": "code",
      "execution_count": 24,
      "metadata": {
        "id": "aMNGDFyHlpuf"
      },
      "outputs": [],
      "source": [
        "def my_quantum_function(x, y):\n",
        "    qml.RZ(x, wires='q1')\n",
        "    qml.CNOT(wires=['aux' ,'q1'])\n",
        "    qml.RY(y, wires='q2')\n",
        "    return qml.expval(qml.PauliZ('q2'))"
      ]
    },
    {
      "cell_type": "markdown",
      "metadata": {
        "id": "iTD7XPSnlw5V"
      },
      "source": [
        "Kai kurie įrenginiai, pavyzdžiui \"hardware chips\" gali turėti fiksuotą laidų skaičių. Įrenginio argumentui wires perduota etikečių iterable turi atitikti šį numatomą laidų skaičių.\n",
        "\n",
        "Taip pat vertėtų paminėti, kad iekiant palaikyti bet kokio hashable tipo laidų etiketes, sveikieji skaičiai ir 0-d masyvai laikomi skirtingais. Pavyzdžiui, paleidus\n",
        "\n",
        "```\n",
        "qml.RX(1.1, qml.numpy.array(0))\n",
        "```\n",
        "\n",
        "  įrenginyje, inicializuotame su wires=[0], nepavyks, nes qml.numpy.array(0) nėra įrenginio wires map."
      ]
    },
    {
      "cell_type": "markdown",
      "metadata": {
        "id": "ipF47IrjmbsD"
      },
      "source": [
        "###Shots"
      ]
    },
    {
      "cell_type": "markdown",
      "metadata": {
        "id": "QNvB8maam6-1"
      },
      "source": [
        "Argumentas shots yra sveikasis skaičius, apibrėžiantis, kiek kartų grandinė turėtų būti įvertinta (arba \"imčių\"), kad būtų galima įvertinti statistinius dydžius.\n",
        "\n",
        "Šis argumentas gali būti laikinai perrašytas, kai iškviečiamas QNode pavyzdžiui, my_qnode(shots=3) laikinai įvertins my_qnode tris kartus.\n",
        "\n",
        "Taip pat galima \"shots\" argumentą paduoti kaip sveikųjų skaičių sąrašą, kad matavimo statistiką būtų galima suskirstyti pagal eigą atliekant vieną QNode įvertinimą."
      ]
    },
    {
      "cell_type": "code",
      "execution_count": 25,
      "metadata": {
        "id": "YWzRFPgGn0fZ"
      },
      "outputs": [],
      "source": [
        "shots_list = [5, 10, 1000]\n",
        "devWithShotList = qml.device(\"default.qubit\", wires=2, shots=shots_list)"
      ]
    },
    {
      "cell_type": "markdown",
      "metadata": {
        "id": "6WuYoKL0oPMb"
      },
      "source": [
        "Kai QNodes vykdomi šiame prietaise, pateikiamas vienas 1015 shots vykdymas.Tačiau bus grąžinti trys matavimo statistinių duomenų rinkiniai; atskirai bus naudojami pirmieji 5 shots, antrasis 10 shots rinkinys ir paskutinis 1000 shots rinkinys.\n",
        "\n",
        "**Pavyzdys:**"
      ]
    },
    {
      "cell_type": "code",
      "execution_count": 26,
      "metadata": {
        "id": "irodnjYCoU3-"
      },
      "outputs": [],
      "source": [
        "@qml.qnode(devWithShotList)\n",
        "def circuitWithShotList(x):\n",
        "    qml.RX(x, wires=0)\n",
        "    qml.CNOT(wires=[0, 1])\n",
        "    return qml.expval(qml.PauliZ(0) @ qml.PauliX(1)), qml.expval(qml.PauliZ(0))"
      ]
    },
    {
      "cell_type": "code",
      "execution_count": 27,
      "metadata": {
        "colab": {
          "base_uri": "https://localhost:8080/"
        },
        "id": "3-uI0x4GoXZh",
        "outputId": "40f88b82-137d-4404-ddca-33c92c8c1943"
      },
      "outputs": [
        {
          "data": {
            "text/plain": [
              "((array(-0.2), array(1.)),\n",
              " (array(0.), array(1.)),\n",
              " (array(-0.028), array(0.838)))"
            ]
          },
          "execution_count": 27,
          "metadata": {},
          "output_type": "execute_result"
        }
      ],
      "source": [
        "results = circuitWithShotList(0.5)\n",
        "results"
      ]
    },
    {
      "cell_type": "code",
      "execution_count": 28,
      "metadata": {
        "colab": {
          "base_uri": "https://localhost:8080/"
        },
        "id": "dAz0cYq3oee5",
        "outputId": "c86b2b8f-0030-4368-b1ad-c341f27e5f01"
      },
      "outputs": [
        {
          "name": "stdout",
          "output_type": "stream",
          "text": [
            "(array(-0.2), array(1.))\n",
            "(array(0.), array(1.))\n",
            "(array(-0.028), array(0.838))\n"
          ]
        }
      ],
      "source": [
        "print(results[0])\n",
        "print(results[1])\n",
        "print(results[2])"
      ]
    },
    {
      "cell_type": "markdown",
      "metadata": {
        "id": "XHSggtrHQK2-"
      },
      "source": [
        "##Kvantinio mazgo kūrimas"
      ]
    },
    {
      "cell_type": "markdown",
      "metadata": {
        "id": "nKkWpkIzQT25"
      },
      "source": [
        "Kvantinė funkcija ir įrenginys kartu naudojami kvantiniam mazgui arba QNode objektui sukurti, kuris apgaubia kvantinę funkciją ir susieja ją su įrenginiu.\n",
        "\n",
        "QNode galima sukurti taip:"
      ]
    },
    {
      "cell_type": "code",
      "execution_count": 29,
      "metadata": {
        "id": "-Mw7U4DeQZe-"
      },
      "outputs": [],
      "source": [
        "QNodeCircuit = qml.QNode(my_quantum_function, dev_unique_wires)"
      ]
    },
    {
      "cell_type": "markdown",
      "metadata": {
        "id": "5tlVrP-_pPhH"
      },
      "source": [
        "QNode galima naudoti kvantinės grandinės rezultatui apskaičiuoti, taip kaip python funkcija. Jis priima tuos pačius argumentus kaip ir originali kvantinė funkcija:"
      ]
    },
    {
      "cell_type": "code",
      "execution_count": 30,
      "metadata": {
        "colab": {
          "base_uri": "https://localhost:8080/"
        },
        "id": "hl4dG1mHpS1w",
        "outputId": "17310efa-2f34-4bd3-c854-264728e24b8b"
      },
      "outputs": [
        {
          "data": {
            "text/plain": [
              "tensor(0.76484219, requires_grad=True)"
            ]
          },
          "execution_count": 30,
          "metadata": {},
          "output_type": "execute_result"
        }
      ],
      "source": [
        "QNodeCircuit(np.pi/4, 0.7)"
      ]
    },
    {
      "cell_type": "markdown",
      "metadata": {
        "id": "-9Z5HYmxqeP8"
      },
      "source": [
        "Norėdami peržiūrėti kvantinę grandinę pagal tam tikras parametrų vertes, galime naudoti draw() transformaciją"
      ]
    },
    {
      "cell_type": "code",
      "execution_count": 31,
      "metadata": {
        "colab": {
          "base_uri": "https://localhost:8080/"
        },
        "id": "hQSjQg3IpW0d",
        "outputId": "9caa3036-578c-4079-c598-13a538cd14c5"
      },
      "outputs": [
        {
          "name": "stdout",
          "output_type": "stream",
          "text": [
            "aux: ───────────╭●─┤     \n",
            " q1: ──RZ(0.79)─╰X─┤     \n",
            " q2: ──RY(0.70)────┤  <Z>\n"
          ]
        }
      ],
      "source": [
        "print(qml.draw(QNodeCircuit)(np.pi/4, 0.7))"
      ]
    },
    {
      "cell_type": "markdown",
      "metadata": {
        "id": "4zx7pjjEqpkO"
      },
      "source": [
        "arba draw_mpl() transformacija:"
      ]
    },
    {
      "cell_type": "code",
      "execution_count": 32,
      "metadata": {
        "colab": {
          "base_uri": "https://localhost:8080/",
          "height": 436
        },
        "id": "Pq6fceRcqj7M",
        "outputId": "d7dfab9d-4723-4e04-d043-785ab0b707aa"
      },
      "outputs": [
        {
          "data": {
            "image/png": "[encoded data removed]",
            "text/plain": [
              "<Figure size 500x400 with 1 Axes>"
            ]
          },
          "metadata": {},
          "output_type": "display_data"
        }
      ],
      "source": [
        "qml.drawer.use_style(\"black_white\")\n",
        "fig, ax = qml.draw_mpl(QNodeCircuit,style=\"sketch\")(np.pi/4, 0.7)\n",
        "plt.show()"
      ]
    },
    {
      "cell_type": "markdown",
      "metadata": {
        "id": "yjndCDo3q0Gh"
      },
      "source": [
        "##QNode dekoratorius"
      ]
    },
    {
      "cell_type": "markdown",
      "metadata": {
        "id": "CftZhLQjq8-K"
      },
      "source": [
        "Rekomenduojamas būdas kurti QNode yra qnode dekoratorius. Dekoratorius paverčia Python funkciją, kurioje yra PennyLane kvantinės operacijos, į QNode grandinę, kuri veiks kvantiniame įrenginyje. (Dekoratorius visiškai pakeičia python pagrindu sukurtą kvantinę funkciją to paties pavadinimo \"QNode\" funkcija - originali funkcija nebėra pasiekiama.)\n",
        "\n",
        "**Pavyzdys:**"
      ]
    },
    {
      "cell_type": "code",
      "execution_count": 33,
      "metadata": {
        "colab": {
          "base_uri": "https://localhost:8080/"
        },
        "id": "Ge_Gjt90rVCb",
        "outputId": "03495bac-5c52-40ea-ee02-9068d4f3b889"
      },
      "outputs": [
        {
          "name": "stdout",
          "output_type": "stream",
          "text": [
            "0.8561624160163042\n"
          ]
        }
      ],
      "source": [
        "dev = qml.device('default.qubit', wires=2)\n",
        "\n",
        "@qml.qnode(dev)\n",
        "def circuit(x):\n",
        "    qml.RZ(x, wires=0)\n",
        "    qml.CNOT(wires=[0,1])\n",
        "    qml.RY(x, wires=1)\n",
        "    return qml.expval(qml.PauliZ(1))\n",
        "\n",
        "result = circuit(0.543)\n",
        "print(result)"
      ]
    },
    {
      "cell_type": "markdown",
      "metadata": {
        "id": "EBemd9mVtWTv"
      },
      "source": [
        "##QNodes parametrų transliavimas"
      ]
    },
    {
      "cell_type": "markdown",
      "metadata": {
        "id": "EhbLmKN2tZ05"
      },
      "source": [
        "Priklausomai nuo naudojamų kvantinių operacijų, QNode gali palaikyti kelių parametrų vykdymą vienu metu:"
      ]
    },
    {
      "cell_type": "code",
      "execution_count": 34,
      "metadata": {
        "colab": {
          "base_uri": "https://localhost:8080/"
        },
        "id": "tF3n-kN6ttWY",
        "outputId": "108709a4-caf3-4b99-f929-fcd956c8b4da"
      },
      "outputs": [
        {
          "name": "stdout",
          "output_type": "stream",
          "text": [
            "[0.85616242 0.33046511]\n"
          ]
        }
      ],
      "source": [
        "x = np.array([0.543, 1.234])\n",
        "result = circuit(x)\n",
        "print(result)"
      ]
    },
    {
      "cell_type": "markdown",
      "metadata": {
        "id": "NrLQTzHHwa46"
      },
      "source": [
        "Kadangi įvestis dabar yra masyvas, išvestis taip pat yra masyvas, kurio kiekvienas elementas yra atitinkamo įvesties elemento reikšmė."
      ]
    },
    {
      "cell_type": "markdown",
      "metadata": {
        "id": "B4wK-AtY8p5A"
      },
      "source": [
        "##QubitUnitary"
      ]
    },
    {
      "cell_type": "markdown",
      "metadata": {
        "id": "PdkOReiI8wk-"
      },
      "source": [
        "Pritaikykite bet kokią unitarinę matricą, kurios matmuo yra dviejų galingumų.\n",
        "\n",
        "```\n",
        "class QubitUnitary(U, wires)\n",
        "```\n",
        "**Detalės:**\n",
        "\n",
        "Laidų skaičius: (operacija gali būti atliekama su bet kokiu laidų skaičiumi)\n",
        "\n",
        "Parametrų skaičius: 1\n",
        "\n",
        "Vieno parametro matmenų skaičius: (2,)\n",
        "\n",
        "Gradiento receptas: Nėra\n",
        "\n",
        "**Argumentai:**\n",
        "\n",
        "U (array[complex]) - kvadratinė unitarinė matrica.\n",
        "\n",
        "wires (Sequence[int] or int) - wire(s), kurį (-iuos) veikia operacija.\n",
        "\n",
        "id (str) - operatoriaus egzemplioriui suteikta pasirinktinė etiketė gali būti naudinga kai kuriose taikomosiose programose, kuriose reikia identifikuoti egzempliorių.\n",
        "\n",
        "unitary_check (bool) - patikrinti ar duota matrica yra unitarinė.\n",
        "\n",
        "**Pavyzdys:**\n"
      ]
    },
    {
      "cell_type": "code",
      "execution_count": 35,
      "metadata": {
        "colab": {
          "base_uri": "https://localhost:8080/"
        },
        "id": "b1rvplpb-DQ1",
        "outputId": "c9d8fb39-ab97-4f23-fa2a-ee2568feb0ea"
      },
      "outputs": [
        {
          "name": "stdout",
          "output_type": "stream",
          "text": [
            "0.0\n"
          ]
        }
      ],
      "source": [
        "devQubitUnitary = qml.device('default.qubit', wires=1)\n",
        "U = 1 / np.sqrt(2) * np.array([[1, 1], [1, -1]])\n",
        "@qml.qnode(dev)\n",
        "def example_circuit():\n",
        "  qml.QubitUnitary(U, wires=0)\n",
        "  return qml.expval(qml.PauliZ(0))\n",
        "print(example_circuit())"
      ]
    },
    {
      "cell_type": "markdown",
      "metadata": {
        "id": "qYZUn_rG_eRr"
      },
      "source": [
        "Daugiau informacijos apie QubitUnitary atributus galima rasti:\n",
        "\n",
        "https://docs.pennylane.ai/en/stable/code/api/pennylane.QubitUnitary.html?fbclid=IwAR1fxNTUrGTsilM6yCTtgJ0lDacHM72iau3FOoknE90Ar-D_YTl00OMjyhY#attrDetails\n",
        "\n",
        "Daugiau informacijos apie QubitUnitary metodus galima rasti:\n",
        "\n",
        "https://docs.pennylane.ai/en/stable/code/api/pennylane.QubitUnitary.html?fbclid=IwAR1fxNTUrGTsilM6yCTtgJ0lDacHM72iau3FOoknE90Ar-D_YTl00OMjyhY#methDetails"
      ]
    },
    {
      "cell_type": "markdown",
      "metadata": {
        "id": "gTBG-YkQ_2-8"
      },
      "source": [
        "#Papildoma informacija"
      ]
    },
    {
      "cell_type": "markdown",
      "metadata": {
        "id": "W4eaJ4LIBB40"
      },
      "source": [
        "Rašant šį dokumentą buvo naudojama PennyLane dokumentacija:\n",
        "\n",
        "https://docs.pennylane.ai/en/stable/"
      ]
    }
  ],
  "metadata": {
    "colab": {
      "provenance": []
    },
    "kernelspec": {
      "display_name": "Python 3",
      "name": "python3"
    },
    "language_info": {
      "codemirror_mode": {
        "name": "ipython",
        "version": 3
      },
      "file_extension": ".py",
      "mimetype": "text/x-python",
      "name": "python",
      "nbconvert_exporter": "python",
      "pygments_lexer": "ipython3",
      "version": "3.11.4"
    }
  },
  "nbformat": 4,
  "nbformat_minor": 0
}
